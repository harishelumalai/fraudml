{
  "nbformat": 4,
  "nbformat_minor": 0,
  "metadata": {
    "colab": {
      "name": "Untitled1.ipynb",
      "provenance": [],
      "authorship_tag": "ABX9TyNzEKR2oyCutqV1GjH81xnw",
      "include_colab_link": true
    },
    "kernelspec": {
      "name": "python3",
      "display_name": "Python 3"
    }
  },
  "cells": [
    {
      "cell_type": "markdown",
      "metadata": {
        "id": "view-in-github",
        "colab_type": "text"
      },
      "source": [
        "<a href=\"https://colab.research.google.com/github/harishelumalai/fraudml/blob/master/amtcnt_notebook.ipynb\" target=\"_parent\"><img src=\"https://colab.research.google.com/assets/colab-badge.svg\" alt=\"Open In Colab\"/></a>"
      ]
    },
    {
      "cell_type": "code",
      "metadata": {
        "id": "AINYRkKH1-4o",
        "colab_type": "code",
        "colab": {
          "base_uri": "https://localhost:8080/",
          "height": 34
        },
        "outputId": "47dbc48d-924f-4ffd-94e9-697b871cf0e8"
      },
      "source": [
        "import numpy as np\n",
        "from keras.layers import Dense\n",
        "from keras.models import Sequential\n",
        "from keras import optimizers"
      ],
      "execution_count": 1,
      "outputs": [
        {
          "output_type": "stream",
          "text": [
            "Using TensorFlow backend.\n"
          ],
          "name": "stderr"
        }
      ]
    },
    {
      "cell_type": "code",
      "metadata": {
        "id": "KzSWhdsy2CNz",
        "colab_type": "code",
        "colab": {
          "base_uri": "https://localhost:8080/",
          "height": 34
        },
        "outputId": "661971b4-7789-44fe-e805-c5cdd36e10dc"
      },
      "source": [
        "csv_table = np.genfromtxt('input2.csv', delimiter=',')\n",
        "print(csv_table.shape)\n",
        "#get input columns from table\n",
        "inarr=csv_table[:,[0,1]]\n",
        "\n",
        "#get output columns from table\n",
        "outarr=csv_table[:,[2]]"
      ],
      "execution_count": 11,
      "outputs": [
        {
          "output_type": "stream",
          "text": [
            "(10000, 3)\n"
          ],
          "name": "stdout"
        }
      ]
    },
    {
      "cell_type": "code",
      "metadata": {
        "id": "RywhYmgR2GKm",
        "colab_type": "code",
        "colab": {
          "base_uri": "https://localhost:8080/",
          "height": 272
        },
        "outputId": "cb0fa334-7d28-490d-dafd-7700b1457ab4"
      },
      "source": [
        "model=Sequential()\n",
        "#hidden layer1\n",
        "model.add(Dense(units=4, activation='relu', input_dim=2))\n",
        "model.add(Dense(units=2, activation='relu'))\n",
        "#output layer\n",
        "model.add(Dense(units=1, activation='sigmoid'))\n",
        "print(model.summary())"
      ],
      "execution_count": 12,
      "outputs": [
        {
          "output_type": "stream",
          "text": [
            "Model: \"sequential_2\"\n",
            "_________________________________________________________________\n",
            "Layer (type)                 Output Shape              Param #   \n",
            "=================================================================\n",
            "dense_4 (Dense)              (None, 4)                 12        \n",
            "_________________________________________________________________\n",
            "dense_5 (Dense)              (None, 2)                 10        \n",
            "_________________________________________________________________\n",
            "dense_6 (Dense)              (None, 1)                 3         \n",
            "=================================================================\n",
            "Total params: 25\n",
            "Trainable params: 25\n",
            "Non-trainable params: 0\n",
            "_________________________________________________________________\n",
            "None\n"
          ],
          "name": "stdout"
        }
      ]
    },
    {
      "cell_type": "code",
      "metadata": {
        "id": "6clYFIQ12RuV",
        "colab_type": "code",
        "colab": {}
      },
      "source": [
        "#use sgd or adagrad as optimizer\n",
        "sgd=optimizers.SGD(lr=1)\n",
        "adagrad=optimizers.Adagrad()\n",
        "#use binary_crossentropy as loss function because it works well with binary classification(fraud or not fraud)\n",
        "model.compile(loss='binary_crossentropy', optimizer='adam', metrics=['accuracy'])"
      ],
      "execution_count": 0,
      "outputs": []
    },
    {
      "cell_type": "code",
      "metadata": {
        "id": "lT6BHKty2Vr0",
        "colab_type": "code",
        "colab": {
          "base_uri": "https://localhost:8080/",
          "height": 1000
        },
        "outputId": "d2013b22-3793-429d-e6d1-970a591932d2"
      },
      "source": [
        "#Start the training\n",
        "model.fit(inarr, outarr, epochs=150, verbose=True, batch_size=20)"
      ],
      "execution_count": 14,
      "outputs": [
        {
          "output_type": "stream",
          "text": [
            "Epoch 1/150\n",
            "10000/10000 [==============================] - 1s 70us/step - loss: 8.7733 - accuracy: 0.7763\n",
            "Epoch 2/150\n",
            "10000/10000 [==============================] - 1s 63us/step - loss: 0.5673 - accuracy: 0.7696\n",
            "Epoch 3/150\n",
            "10000/10000 [==============================] - 1s 59us/step - loss: 0.3852 - accuracy: 0.7919\n",
            "Epoch 4/150\n",
            "10000/10000 [==============================] - 1s 60us/step - loss: 0.3647 - accuracy: 0.8161\n",
            "Epoch 5/150\n",
            "10000/10000 [==============================] - 1s 61us/step - loss: 0.3388 - accuracy: 0.8342\n",
            "Epoch 6/150\n",
            "10000/10000 [==============================] - 1s 60us/step - loss: 0.3068 - accuracy: 0.8487\n",
            "Epoch 7/150\n",
            "10000/10000 [==============================] - 1s 62us/step - loss: 0.2732 - accuracy: 0.8578\n",
            "Epoch 8/150\n",
            "10000/10000 [==============================] - 1s 59us/step - loss: 0.2426 - accuracy: 0.8736\n",
            "Epoch 9/150\n",
            "10000/10000 [==============================] - 1s 60us/step - loss: 0.2225 - accuracy: 0.8896\n",
            "Epoch 10/150\n",
            "10000/10000 [==============================] - 1s 59us/step - loss: 0.2059 - accuracy: 0.9022\n",
            "Epoch 11/150\n",
            "10000/10000 [==============================] - 1s 60us/step - loss: 0.1915 - accuracy: 0.9096\n",
            "Epoch 12/150\n",
            "10000/10000 [==============================] - 1s 61us/step - loss: 0.1782 - accuracy: 0.9151\n",
            "Epoch 13/150\n",
            "10000/10000 [==============================] - 1s 57us/step - loss: 0.1666 - accuracy: 0.9201\n",
            "Epoch 14/150\n",
            "10000/10000 [==============================] - 1s 57us/step - loss: 0.1557 - accuracy: 0.9282\n",
            "Epoch 15/150\n",
            "10000/10000 [==============================] - 1s 59us/step - loss: 0.1457 - accuracy: 0.9367\n",
            "Epoch 16/150\n",
            "10000/10000 [==============================] - 1s 59us/step - loss: 0.1361 - accuracy: 0.9430\n",
            "Epoch 17/150\n",
            "10000/10000 [==============================] - 1s 59us/step - loss: 0.1275 - accuracy: 0.9557\n",
            "Epoch 18/150\n",
            "10000/10000 [==============================] - 1s 60us/step - loss: 0.1191 - accuracy: 0.9649\n",
            "Epoch 19/150\n",
            "10000/10000 [==============================] - 1s 63us/step - loss: 0.1117 - accuracy: 0.9701\n",
            "Epoch 20/150\n",
            "10000/10000 [==============================] - 1s 63us/step - loss: 0.1040 - accuracy: 0.9760\n",
            "Epoch 21/150\n",
            "10000/10000 [==============================] - 1s 64us/step - loss: 0.0976 - accuracy: 0.9792\n",
            "Epoch 22/150\n",
            "10000/10000 [==============================] - 1s 60us/step - loss: 0.0922 - accuracy: 0.9790\n",
            "Epoch 23/150\n",
            "10000/10000 [==============================] - 1s 60us/step - loss: 0.0852 - accuracy: 0.9815\n",
            "Epoch 24/150\n",
            "10000/10000 [==============================] - 1s 62us/step - loss: 0.0791 - accuracy: 0.9846\n",
            "Epoch 25/150\n",
            "10000/10000 [==============================] - 1s 62us/step - loss: 0.0743 - accuracy: 0.9848\n",
            "Epoch 26/150\n",
            "10000/10000 [==============================] - 1s 60us/step - loss: 0.0683 - accuracy: 0.9879\n",
            "Epoch 27/150\n",
            "10000/10000 [==============================] - 1s 62us/step - loss: 0.0643 - accuracy: 0.9872\n",
            "Epoch 28/150\n",
            "10000/10000 [==============================] - 1s 60us/step - loss: 0.0600 - accuracy: 0.9896\n",
            "Epoch 29/150\n",
            "10000/10000 [==============================] - 1s 62us/step - loss: 0.0565 - accuracy: 0.9881\n",
            "Epoch 30/150\n",
            "10000/10000 [==============================] - 1s 62us/step - loss: 0.0526 - accuracy: 0.9896\n",
            "Epoch 31/150\n",
            "10000/10000 [==============================] - 1s 60us/step - loss: 0.0493 - accuracy: 0.9904\n",
            "Epoch 32/150\n",
            "10000/10000 [==============================] - 1s 58us/step - loss: 0.0465 - accuracy: 0.9910\n",
            "Epoch 33/150\n",
            "10000/10000 [==============================] - 1s 59us/step - loss: 0.0423 - accuracy: 0.9923\n",
            "Epoch 34/150\n",
            "10000/10000 [==============================] - 1s 62us/step - loss: 0.0403 - accuracy: 0.9934\n",
            "Epoch 35/150\n",
            "10000/10000 [==============================] - 1s 61us/step - loss: 0.0366 - accuracy: 0.9931\n",
            "Epoch 36/150\n",
            "10000/10000 [==============================] - 1s 60us/step - loss: 0.0363 - accuracy: 0.9916\n",
            "Epoch 37/150\n",
            "10000/10000 [==============================] - 1s 64us/step - loss: 0.0328 - accuracy: 0.9920\n",
            "Epoch 38/150\n",
            "10000/10000 [==============================] - 1s 62us/step - loss: 0.0312 - accuracy: 0.9928\n",
            "Epoch 39/150\n",
            "10000/10000 [==============================] - 1s 62us/step - loss: 0.0306 - accuracy: 0.9919\n",
            "Epoch 40/150\n",
            "10000/10000 [==============================] - 1s 63us/step - loss: 0.0315 - accuracy: 0.9887\n",
            "Epoch 41/150\n",
            "10000/10000 [==============================] - 1s 62us/step - loss: 0.0250 - accuracy: 0.9940\n",
            "Epoch 42/150\n",
            "10000/10000 [==============================] - 1s 61us/step - loss: 0.0252 - accuracy: 0.9934\n",
            "Epoch 43/150\n",
            "10000/10000 [==============================] - 1s 61us/step - loss: 0.0262 - accuracy: 0.9920\n",
            "Epoch 44/150\n",
            "10000/10000 [==============================] - 1s 63us/step - loss: 0.0235 - accuracy: 0.9934\n",
            "Epoch 45/150\n",
            "10000/10000 [==============================] - 1s 64us/step - loss: 0.0241 - accuracy: 0.9911\n",
            "Epoch 46/150\n",
            "10000/10000 [==============================] - 1s 62us/step - loss: 0.0238 - accuracy: 0.9926\n",
            "Epoch 47/150\n",
            "10000/10000 [==============================] - 1s 63us/step - loss: 0.0231 - accuracy: 0.9922\n",
            "Epoch 48/150\n",
            "10000/10000 [==============================] - 1s 63us/step - loss: 0.0194 - accuracy: 0.9943\n",
            "Epoch 49/150\n",
            "10000/10000 [==============================] - 1s 60us/step - loss: 0.0234 - accuracy: 0.9914\n",
            "Epoch 50/150\n",
            "10000/10000 [==============================] - 1s 60us/step - loss: 0.0193 - accuracy: 0.9932\n",
            "Epoch 51/150\n",
            "10000/10000 [==============================] - 1s 60us/step - loss: 0.0203 - accuracy: 0.9927\n",
            "Epoch 52/150\n",
            "10000/10000 [==============================] - 1s 61us/step - loss: 0.0217 - accuracy: 0.9914\n",
            "Epoch 53/150\n",
            "10000/10000 [==============================] - 1s 62us/step - loss: 0.0198 - accuracy: 0.9932\n",
            "Epoch 54/150\n",
            "10000/10000 [==============================] - 1s 64us/step - loss: 0.0187 - accuracy: 0.9934\n",
            "Epoch 55/150\n",
            "10000/10000 [==============================] - 1s 65us/step - loss: 0.0179 - accuracy: 0.9939\n",
            "Epoch 56/150\n",
            "10000/10000 [==============================] - 1s 63us/step - loss: 0.0198 - accuracy: 0.9921\n",
            "Epoch 57/150\n",
            "10000/10000 [==============================] - 1s 63us/step - loss: 0.0224 - accuracy: 0.9920\n",
            "Epoch 58/150\n",
            "10000/10000 [==============================] - 1s 60us/step - loss: 0.0209 - accuracy: 0.9916\n",
            "Epoch 59/150\n",
            "10000/10000 [==============================] - 1s 59us/step - loss: 0.0194 - accuracy: 0.9925\n",
            "Epoch 60/150\n",
            "10000/10000 [==============================] - 1s 63us/step - loss: 0.0195 - accuracy: 0.9929\n",
            "Epoch 61/150\n",
            "10000/10000 [==============================] - 1s 64us/step - loss: 0.0196 - accuracy: 0.9920\n",
            "Epoch 62/150\n",
            "10000/10000 [==============================] - 1s 62us/step - loss: 0.0178 - accuracy: 0.9930\n",
            "Epoch 63/150\n",
            "10000/10000 [==============================] - 1s 62us/step - loss: 0.0193 - accuracy: 0.9926\n",
            "Epoch 64/150\n",
            "10000/10000 [==============================] - 1s 61us/step - loss: 0.0193 - accuracy: 0.9930\n",
            "Epoch 65/150\n",
            "10000/10000 [==============================] - 1s 60us/step - loss: 0.0222 - accuracy: 0.9918\n",
            "Epoch 66/150\n",
            "10000/10000 [==============================] - 1s 62us/step - loss: 0.0182 - accuracy: 0.9933\n",
            "Epoch 67/150\n",
            "10000/10000 [==============================] - 1s 60us/step - loss: 0.0228 - accuracy: 0.9916\n",
            "Epoch 68/150\n",
            "10000/10000 [==============================] - 1s 62us/step - loss: 0.0222 - accuracy: 0.9917\n",
            "Epoch 69/150\n",
            "10000/10000 [==============================] - 1s 62us/step - loss: 0.0165 - accuracy: 0.9934\n",
            "Epoch 70/150\n",
            "10000/10000 [==============================] - 1s 63us/step - loss: 0.0168 - accuracy: 0.9931\n",
            "Epoch 71/150\n",
            "10000/10000 [==============================] - 1s 62us/step - loss: 0.0179 - accuracy: 0.9924\n",
            "Epoch 72/150\n",
            "10000/10000 [==============================] - 1s 62us/step - loss: 0.0175 - accuracy: 0.9937\n",
            "Epoch 73/150\n",
            "10000/10000 [==============================] - 1s 64us/step - loss: 0.0251 - accuracy: 0.9905\n",
            "Epoch 74/150\n",
            "10000/10000 [==============================] - 1s 60us/step - loss: 0.0206 - accuracy: 0.9906\n",
            "Epoch 75/150\n",
            "10000/10000 [==============================] - 1s 63us/step - loss: 0.0165 - accuracy: 0.9944\n",
            "Epoch 76/150\n",
            "10000/10000 [==============================] - 1s 65us/step - loss: 0.0161 - accuracy: 0.9940\n",
            "Epoch 77/150\n",
            "10000/10000 [==============================] - 1s 60us/step - loss: 0.0167 - accuracy: 0.9934\n",
            "Epoch 78/150\n",
            "10000/10000 [==============================] - 1s 63us/step - loss: 0.0204 - accuracy: 0.9919\n",
            "Epoch 79/150\n",
            "10000/10000 [==============================] - 1s 63us/step - loss: 0.0146 - accuracy: 0.9952\n",
            "Epoch 80/150\n",
            "10000/10000 [==============================] - 1s 60us/step - loss: 0.0248 - accuracy: 0.9909\n",
            "Epoch 81/150\n",
            "10000/10000 [==============================] - 1s 60us/step - loss: 0.0165 - accuracy: 0.9932\n",
            "Epoch 82/150\n",
            "10000/10000 [==============================] - 1s 64us/step - loss: 0.0166 - accuracy: 0.9936\n",
            "Epoch 83/150\n",
            "10000/10000 [==============================] - 1s 63us/step - loss: 0.0173 - accuracy: 0.9928\n",
            "Epoch 84/150\n",
            "10000/10000 [==============================] - 1s 63us/step - loss: 0.0166 - accuracy: 0.9928\n",
            "Epoch 85/150\n",
            "10000/10000 [==============================] - 1s 61us/step - loss: 0.0155 - accuracy: 0.9939\n",
            "Epoch 86/150\n",
            "10000/10000 [==============================] - 1s 62us/step - loss: 0.0174 - accuracy: 0.9928\n",
            "Epoch 87/150\n",
            "10000/10000 [==============================] - 1s 62us/step - loss: 0.0160 - accuracy: 0.9940\n",
            "Epoch 88/150\n",
            "10000/10000 [==============================] - 1s 60us/step - loss: 0.0372 - accuracy: 0.9887\n",
            "Epoch 89/150\n",
            "10000/10000 [==============================] - 1s 63us/step - loss: 0.0167 - accuracy: 0.9931\n",
            "Epoch 90/150\n",
            "10000/10000 [==============================] - 1s 62us/step - loss: 0.0167 - accuracy: 0.9935\n",
            "Epoch 91/150\n",
            "10000/10000 [==============================] - 1s 60us/step - loss: 0.0184 - accuracy: 0.9928\n",
            "Epoch 92/150\n",
            "10000/10000 [==============================] - 1s 60us/step - loss: 0.0159 - accuracy: 0.9944\n",
            "Epoch 93/150\n",
            "10000/10000 [==============================] - 1s 65us/step - loss: 0.0171 - accuracy: 0.9931\n",
            "Epoch 94/150\n",
            "10000/10000 [==============================] - 1s 61us/step - loss: 0.0161 - accuracy: 0.9939\n",
            "Epoch 95/150\n",
            "10000/10000 [==============================] - 1s 61us/step - loss: 0.0148 - accuracy: 0.9951\n",
            "Epoch 96/150\n",
            "10000/10000 [==============================] - 1s 61us/step - loss: 0.0156 - accuracy: 0.9940\n",
            "Epoch 97/150\n",
            "10000/10000 [==============================] - 1s 61us/step - loss: 0.0173 - accuracy: 0.9924\n",
            "Epoch 98/150\n",
            "10000/10000 [==============================] - 1s 60us/step - loss: 0.0182 - accuracy: 0.9930\n",
            "Epoch 99/150\n",
            "10000/10000 [==============================] - 1s 62us/step - loss: 0.0189 - accuracy: 0.9920\n",
            "Epoch 100/150\n",
            "10000/10000 [==============================] - 1s 62us/step - loss: 0.0249 - accuracy: 0.9916\n",
            "Epoch 101/150\n",
            "10000/10000 [==============================] - 1s 60us/step - loss: 0.0167 - accuracy: 0.9928\n",
            "Epoch 102/150\n",
            "10000/10000 [==============================] - 1s 63us/step - loss: 0.0167 - accuracy: 0.9927\n",
            "Epoch 103/150\n",
            "10000/10000 [==============================] - 1s 61us/step - loss: 0.0153 - accuracy: 0.9943\n",
            "Epoch 104/150\n",
            "10000/10000 [==============================] - 1s 61us/step - loss: 0.0155 - accuracy: 0.9942\n",
            "Epoch 105/150\n",
            "10000/10000 [==============================] - 1s 60us/step - loss: 0.0149 - accuracy: 0.9943\n",
            "Epoch 106/150\n",
            "10000/10000 [==============================] - 1s 60us/step - loss: 0.0154 - accuracy: 0.9938\n",
            "Epoch 107/150\n",
            "10000/10000 [==============================] - 1s 60us/step - loss: 0.0156 - accuracy: 0.9935\n",
            "Epoch 108/150\n",
            "10000/10000 [==============================] - 1s 59us/step - loss: 0.0153 - accuracy: 0.9942\n",
            "Epoch 109/150\n",
            "10000/10000 [==============================] - 1s 60us/step - loss: 0.0238 - accuracy: 0.9913\n",
            "Epoch 110/150\n",
            "10000/10000 [==============================] - 1s 60us/step - loss: 0.0302 - accuracy: 0.9903\n",
            "Epoch 111/150\n",
            "10000/10000 [==============================] - 1s 60us/step - loss: 0.0158 - accuracy: 0.9931\n",
            "Epoch 112/150\n",
            "10000/10000 [==============================] - 1s 61us/step - loss: 0.0134 - accuracy: 0.9954\n",
            "Epoch 113/150\n",
            "10000/10000 [==============================] - 1s 60us/step - loss: 0.0141 - accuracy: 0.9948\n",
            "Epoch 114/150\n",
            "10000/10000 [==============================] - 1s 63us/step - loss: 0.0141 - accuracy: 0.9944\n",
            "Epoch 115/150\n",
            "10000/10000 [==============================] - 1s 61us/step - loss: 0.0178 - accuracy: 0.9927\n",
            "Epoch 116/150\n",
            "10000/10000 [==============================] - 1s 67us/step - loss: 0.0149 - accuracy: 0.9936\n",
            "Epoch 117/150\n",
            "10000/10000 [==============================] - 1s 70us/step - loss: 0.0153 - accuracy: 0.9944\n",
            "Epoch 118/150\n",
            "10000/10000 [==============================] - 1s 68us/step - loss: 0.0154 - accuracy: 0.9936\n",
            "Epoch 119/150\n",
            "10000/10000 [==============================] - 1s 68us/step - loss: 0.0162 - accuracy: 0.9936\n",
            "Epoch 120/150\n",
            "10000/10000 [==============================] - 1s 65us/step - loss: 0.0156 - accuracy: 0.9937\n",
            "Epoch 121/150\n",
            "10000/10000 [==============================] - 1s 71us/step - loss: 0.0134 - accuracy: 0.9954\n",
            "Epoch 122/150\n",
            "10000/10000 [==============================] - 1s 71us/step - loss: 0.0156 - accuracy: 0.9938\n",
            "Epoch 123/150\n",
            "10000/10000 [==============================] - 1s 73us/step - loss: 0.0160 - accuracy: 0.9941\n",
            "Epoch 124/150\n",
            "10000/10000 [==============================] - 1s 65us/step - loss: 0.0142 - accuracy: 0.9945\n",
            "Epoch 125/150\n",
            "10000/10000 [==============================] - 1s 64us/step - loss: 0.0129 - accuracy: 0.9954\n",
            "Epoch 126/150\n",
            "10000/10000 [==============================] - 1s 59us/step - loss: 0.0184 - accuracy: 0.9917\n",
            "Epoch 127/150\n",
            "10000/10000 [==============================] - 1s 62us/step - loss: 0.0153 - accuracy: 0.9935\n",
            "Epoch 128/150\n",
            "10000/10000 [==============================] - 1s 62us/step - loss: 0.0164 - accuracy: 0.9928\n",
            "Epoch 129/150\n",
            "10000/10000 [==============================] - 1s 59us/step - loss: 0.0171 - accuracy: 0.9926\n",
            "Epoch 130/150\n",
            "10000/10000 [==============================] - 1s 60us/step - loss: 0.0150 - accuracy: 0.9945\n",
            "Epoch 131/150\n",
            "10000/10000 [==============================] - 1s 60us/step - loss: 0.0149 - accuracy: 0.9943\n",
            "Epoch 132/150\n",
            "10000/10000 [==============================] - 1s 60us/step - loss: 0.0169 - accuracy: 0.9926\n",
            "Epoch 133/150\n",
            "10000/10000 [==============================] - 1s 59us/step - loss: 0.0148 - accuracy: 0.9937\n",
            "Epoch 134/150\n",
            "10000/10000 [==============================] - 1s 60us/step - loss: 0.0151 - accuracy: 0.9944\n",
            "Epoch 135/150\n",
            "10000/10000 [==============================] - 1s 60us/step - loss: 0.0133 - accuracy: 0.9947\n",
            "Epoch 136/150\n",
            "10000/10000 [==============================] - 1s 62us/step - loss: 0.0151 - accuracy: 0.9940\n",
            "Epoch 137/150\n",
            "10000/10000 [==============================] - 1s 63us/step - loss: 0.0145 - accuracy: 0.9943\n",
            "Epoch 138/150\n",
            "10000/10000 [==============================] - 1s 60us/step - loss: 0.0173 - accuracy: 0.9929\n",
            "Epoch 139/150\n",
            "10000/10000 [==============================] - 1s 59us/step - loss: 0.0166 - accuracy: 0.9927\n",
            "Epoch 140/150\n",
            "10000/10000 [==============================] - 1s 62us/step - loss: 0.0133 - accuracy: 0.9951\n",
            "Epoch 141/150\n",
            "10000/10000 [==============================] - 1s 62us/step - loss: 0.0124 - accuracy: 0.9960\n",
            "Epoch 142/150\n",
            "10000/10000 [==============================] - 1s 60us/step - loss: 0.0126 - accuracy: 0.9958\n",
            "Epoch 143/150\n",
            "10000/10000 [==============================] - 1s 62us/step - loss: 0.0171 - accuracy: 0.9948\n",
            "Epoch 144/150\n",
            "10000/10000 [==============================] - 1s 62us/step - loss: 0.0172 - accuracy: 0.9929\n",
            "Epoch 145/150\n",
            "10000/10000 [==============================] - 1s 63us/step - loss: 0.0159 - accuracy: 0.9921\n",
            "Epoch 146/150\n",
            "10000/10000 [==============================] - 1s 62us/step - loss: 0.0146 - accuracy: 0.9938\n",
            "Epoch 147/150\n",
            "10000/10000 [==============================] - 1s 62us/step - loss: 0.0146 - accuracy: 0.9939\n",
            "Epoch 148/150\n",
            "10000/10000 [==============================] - 1s 62us/step - loss: 0.0158 - accuracy: 0.9944\n",
            "Epoch 149/150\n",
            "10000/10000 [==============================] - 1s 64us/step - loss: 0.0141 - accuracy: 0.9947\n",
            "Epoch 150/150\n",
            "10000/10000 [==============================] - 1s 63us/step - loss: 0.0138 - accuracy: 0.9945\n"
          ],
          "name": "stdout"
        },
        {
          "output_type": "execute_result",
          "data": {
            "text/plain": [
              "<keras.callbacks.callbacks.History at 0x7f10777eab70>"
            ]
          },
          "metadata": {
            "tags": []
          },
          "execution_count": 14
        }
      ]
    },
    {
      "cell_type": "code",
      "metadata": {
        "id": "rOn2ehNo2YjN",
        "colab_type": "code",
        "colab": {
          "base_uri": "https://localhost:8080/",
          "height": 34
        },
        "outputId": "5e86cd44-8ab7-4365-d50b-776a43d3b84e"
      },
      "source": [
        "#after training, let's predict\n",
        "predict_arr=np.array([[541.34,0],[600.00,7], [5.00,6], [5.00,0], [490.00,2], [656.43,1], [911.23,0]])\n",
        "print( predict_arr.shape)"
      ],
      "execution_count": 15,
      "outputs": [
        {
          "output_type": "stream",
          "text": [
            "(7, 2)\n"
          ],
          "name": "stdout"
        }
      ]
    },
    {
      "cell_type": "code",
      "metadata": {
        "id": "zBfuW9As2fmI",
        "colab_type": "code",
        "colab": {
          "base_uri": "https://localhost:8080/",
          "height": 275
        },
        "outputId": "746fd73b-81e2-41f9-d58e-56d9db6e4607"
      },
      "source": [
        "print(model.get_weights())\n",
        "print(model.predict(predict_arr))"
      ],
      "execution_count": 16,
      "outputs": [
        {
          "output_type": "stream",
          "text": [
            "[array([[-0.00555115,  0.02673546, -0.5371093 ,  0.03086262],\n",
            "       [ 2.1788213 ,  0.81906337,  0.09427962, -1.7143377 ]],\n",
            "      dtype=float32), array([-6.642131  , -6.1886654 , -0.10571356, -6.433525  ], dtype=float32), array([[ 4.3888435 , -0.7323768 ],\n",
            "       [ 1.0935211 , -0.75840497],\n",
            "       [-0.5619241 , -0.6052542 ],\n",
            "       [ 0.5080697 , -0.05766988]], dtype=float32), array([-7.7336802,  0.       ], dtype=float32), array([[ 1.9017136 ],\n",
            "       [-0.12288773]], dtype=float32), array([-8.529557], dtype=float32)]\n",
            "[[9.8049474e-01]\n",
            " [1.0000000e+00]\n",
            " [1.0000000e+00]\n",
            " [1.9750340e-04]\n",
            " [4.0753162e-01]\n",
            " [9.9999893e-01]\n",
            " [1.0000000e+00]]\n"
          ],
          "name": "stdout"
        }
      ]
    },
    {
      "cell_type": "code",
      "metadata": {
        "id": "_M2HsAi32iZT",
        "colab_type": "code",
        "colab": {
          "base_uri": "https://localhost:8080/",
          "height": 51
        },
        "outputId": "4862ffdf-3697-4a5d-8c5a-9c8cfe982b61"
      },
      "source": [
        "# evaluate the keras model\n",
        "_, accuracy = model.evaluate(inarr, outarr)\n",
        "print('Accuracy: %.2f' % (accuracy*100))"
      ],
      "execution_count": 17,
      "outputs": [
        {
          "output_type": "stream",
          "text": [
            "10000/10000 [==============================] - 0s 19us/step\n",
            "Accuracy: 99.72\n"
          ],
          "name": "stdout"
        }
      ]
    },
    {
      "cell_type": "code",
      "metadata": {
        "id": "gOcZAVWp2pUx",
        "colab_type": "code",
        "colab": {}
      },
      "source": [
        "model.save('trained_amtcnt_model', include_optimizer=True)"
      ],
      "execution_count": 0,
      "outputs": []
    },
    {
      "cell_type": "code",
      "metadata": {
        "id": "KzApYJ7Z4Qs2",
        "colab_type": "code",
        "colab": {}
      },
      "source": [
        "import keras\n",
        "loadmodel=keras.models.load_model('trained_amtcnt_model')"
      ],
      "execution_count": 0,
      "outputs": []
    },
    {
      "cell_type": "code",
      "metadata": {
        "id": "0BiZK0Mj5Ppr",
        "colab_type": "code",
        "colab": {
          "base_uri": "https://localhost:8080/",
          "height": 272
        },
        "outputId": "430c87bf-8c77-471a-f39f-58ba9749acb7"
      },
      "source": [
        "print(loadmodel.summary())"
      ],
      "execution_count": 27,
      "outputs": [
        {
          "output_type": "stream",
          "text": [
            "Model: \"sequential_2\"\n",
            "_________________________________________________________________\n",
            "Layer (type)                 Output Shape              Param #   \n",
            "=================================================================\n",
            "dense_4 (Dense)              (None, 4)                 12        \n",
            "_________________________________________________________________\n",
            "dense_5 (Dense)              (None, 2)                 10        \n",
            "_________________________________________________________________\n",
            "dense_6 (Dense)              (None, 1)                 3         \n",
            "=================================================================\n",
            "Total params: 25\n",
            "Trainable params: 25\n",
            "Non-trainable params: 0\n",
            "_________________________________________________________________\n",
            "None\n"
          ],
          "name": "stdout"
        }
      ]
    },
    {
      "cell_type": "code",
      "metadata": {
        "id": "m3eW_7QV5hUP",
        "colab_type": "code",
        "colab": {
          "base_uri": "https://localhost:8080/",
          "height": 34
        },
        "outputId": "41caf5bf-ebdc-4ce2-edad-ca1756e73537"
      },
      "source": [
        "print(loadmodel)"
      ],
      "execution_count": 28,
      "outputs": [
        {
          "output_type": "stream",
          "text": [
            "<keras.engine.sequential.Sequential object at 0x7f107017e898>\n"
          ],
          "name": "stdout"
        }
      ]
    },
    {
      "cell_type": "code",
      "metadata": {
        "id": "GeZgAH5M5uih",
        "colab_type": "code",
        "colab": {
          "base_uri": "https://localhost:8080/",
          "height": 156
        },
        "outputId": "18238757-1d66-4afd-f273-c6c70cfb2d0e"
      },
      "source": [
        "print(loadmodel.get_weights())"
      ],
      "execution_count": 29,
      "outputs": [
        {
          "output_type": "stream",
          "text": [
            "[array([[-0.00555115,  0.02673546, -0.5371093 ,  0.03086262],\n",
            "       [ 2.1788213 ,  0.81906337,  0.09427962, -1.7143377 ]],\n",
            "      dtype=float32), array([-6.642131  , -6.1886654 , -0.10571356, -6.433525  ], dtype=float32), array([[ 4.3888435 , -0.7323768 ],\n",
            "       [ 1.0935211 , -0.75840497],\n",
            "       [-0.5619241 , -0.6052542 ],\n",
            "       [ 0.5080697 , -0.05766988]], dtype=float32), array([-7.7336802,  0.       ], dtype=float32), array([[ 1.9017136 ],\n",
            "       [-0.12288773]], dtype=float32), array([-8.529557], dtype=float32)]\n"
          ],
          "name": "stdout"
        }
      ]
    },
    {
      "cell_type": "code",
      "metadata": {
        "id": "pleWRMwr5xzm",
        "colab_type": "code",
        "colab": {
          "base_uri": "https://localhost:8080/",
          "height": 136
        },
        "outputId": "1478535f-1eb8-442b-81c4-c394ae061023"
      },
      "source": [
        "predict_out=loadmodel.predict(predict_arr)\n",
        "print(predict_out)"
      ],
      "execution_count": 33,
      "outputs": [
        {
          "output_type": "stream",
          "text": [
            "[[9.8049474e-01]\n",
            " [1.0000000e+00]\n",
            " [1.0000000e+00]\n",
            " [1.9750340e-04]\n",
            " [4.0753162e-01]\n",
            " [9.9999893e-01]\n",
            " [1.0000000e+00]]\n"
          ],
          "name": "stdout"
        }
      ]
    },
    {
      "cell_type": "code",
      "metadata": {
        "id": "9xfnVOjp53U1",
        "colab_type": "code",
        "colab": {
          "base_uri": "https://localhost:8080/",
          "height": 153
        },
        "outputId": "d623bb6d-1239-45e7-c21e-f8814c74da2c"
      },
      "source": [
        "[print(str(round(i[0]))) for i in predict_out]"
      ],
      "execution_count": 36,
      "outputs": [
        {
          "output_type": "stream",
          "text": [
            "1.0\n",
            "1.0\n",
            "1.0\n",
            "0.0\n",
            "0.0\n",
            "1.0\n",
            "1.0\n"
          ],
          "name": "stdout"
        },
        {
          "output_type": "execute_result",
          "data": {
            "text/plain": [
              "[None, None, None, None, None, None, None]"
            ]
          },
          "metadata": {
            "tags": []
          },
          "execution_count": 36
        }
      ]
    },
    {
      "cell_type": "code",
      "metadata": {
        "id": "pTP8NAXt6NqX",
        "colab_type": "code",
        "colab": {}
      },
      "source": [
        ""
      ],
      "execution_count": 0,
      "outputs": []
    }
  ]
}