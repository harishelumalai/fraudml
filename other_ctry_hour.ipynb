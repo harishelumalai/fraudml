{
  "nbformat": 4,
  "nbformat_minor": 0,
  "metadata": {
    "colab": {
      "name": "Untitled3.ipynb",
      "provenance": [],
      "authorship_tag": "ABX9TyMw1FckT6c+QslLqqF7zcRM",
      "include_colab_link": true
    },
    "kernelspec": {
      "name": "python3",
      "display_name": "Python 3"
    }
  },
  "cells": [
    {
      "cell_type": "markdown",
      "metadata": {
        "id": "view-in-github",
        "colab_type": "text"
      },
      "source": [
        "<a href=\"https://colab.research.google.com/github/harishelumalai/fraudml/blob/master/other_ctry_hour.ipynb\" target=\"_parent\"><img src=\"https://colab.research.google.com/assets/colab-badge.svg\" alt=\"Open In Colab\"/></a>"
      ]
    },
    {
      "cell_type": "code",
      "metadata": {
        "id": "X0Vz1Znv8uo6",
        "colab_type": "code",
        "colab": {
          "base_uri": "https://localhost:8080/",
          "height": 51
        },
        "outputId": "2938144f-4657-4246-8626-5265244fdc8d"
      },
      "source": [
        "#from keras.models import Sequential\n",
        "import numpy as np\n",
        "from keras.layers import Dense\n",
        "from keras.models import Sequential\n",
        "from keras import optimizers\n",
        "\n",
        "csv_table = np.genfromtxt('other_ctry_cnt.csv', delimiter=',')\n",
        "print(csv_table.shape)\n",
        "#get input columns from table\n",
        "inarr=csv_table[:,[0,1]]\n",
        "\n",
        "#get output columns from table\n",
        "outarr=csv_table[:,[2]]"
      ],
      "execution_count": 1,
      "outputs": [
        {
          "output_type": "stream",
          "text": [
            "Using TensorFlow backend.\n"
          ],
          "name": "stderr"
        },
        {
          "output_type": "stream",
          "text": [
            "(4, 3)\n"
          ],
          "name": "stdout"
        }
      ]
    },
    {
      "cell_type": "code",
      "metadata": {
        "id": "oSzjc54y-4Ls",
        "colab_type": "code",
        "colab": {
          "base_uri": "https://localhost:8080/",
          "height": 238
        },
        "outputId": "91a2564b-796c-49c8-c981-df54521a4990"
      },
      "source": [
        "model=Sequential()\n",
        "#hidden layer1\n",
        "model.add(Dense(units=3, activation='relu', input_dim=2))\n",
        "#model.add(Dense(units=2, activation='relu'))\n",
        "#output layer\n",
        "model.add(Dense(units=1, activation='sigmoid'))\n",
        "print(model.summary())\n",
        "\n",
        "#use sgd or adagrad as optimizer\n",
        "sgd=optimizers.SGD(lr=1)\n",
        "adagrad=optimizers.Adagrad()\n",
        "#use binary_crossentropy as loss function because it works well with binary classification(fraud or not fraud)\n",
        "model.compile(loss='binary_crossentropy', optimizer='adam', metrics=['accuracy'])"
      ],
      "execution_count": 8,
      "outputs": [
        {
          "output_type": "stream",
          "text": [
            "Model: \"sequential_2\"\n",
            "_________________________________________________________________\n",
            "Layer (type)                 Output Shape              Param #   \n",
            "=================================================================\n",
            "dense_3 (Dense)              (None, 3)                 9         \n",
            "_________________________________________________________________\n",
            "dense_4 (Dense)              (None, 1)                 4         \n",
            "=================================================================\n",
            "Total params: 13\n",
            "Trainable params: 13\n",
            "Non-trainable params: 0\n",
            "_________________________________________________________________\n",
            "None\n"
          ],
          "name": "stdout"
        }
      ]
    },
    {
      "cell_type": "code",
      "metadata": {
        "id": "uAiaqIIB-9Hc",
        "colab_type": "code",
        "colab": {
          "base_uri": "https://localhost:8080/",
          "height": 1000
        },
        "outputId": "2fb91529-134a-45ab-cc24-1c1e7849316d"
      },
      "source": [
        "\n",
        "\n",
        "#Start the training\n",
        "model.fit(inarr, outarr, epochs=150, verbose=True)\n",
        "\n",
        "#after training, let's predict\n",
        "predict_arr=np.array([[0,0],[1,0],[0,1],[1,1]])\n",
        "print( predict_arr.shape)\n",
        "\n",
        "print(model.get_weights())\n",
        "predict_out=model.predict(predict_arr)\n",
        "# evaluate the keras model\n",
        "_, accuracy = model.evaluate(inarr, outarr)\n",
        "print('Accuracy: %.2f' % (accuracy*100))\n"
      ],
      "execution_count": 10,
      "outputs": [
        {
          "output_type": "stream",
          "text": [
            "Epoch 1/150\n",
            "4/4 [==============================] - 0s 469us/step - loss: 0.5953 - accuracy: 1.0000\n",
            "Epoch 2/150\n",
            "4/4 [==============================] - 0s 501us/step - loss: 0.5948 - accuracy: 1.0000\n",
            "Epoch 3/150\n",
            "4/4 [==============================] - 0s 396us/step - loss: 0.5943 - accuracy: 1.0000\n",
            "Epoch 4/150\n",
            "4/4 [==============================] - 0s 1ms/step - loss: 0.5937 - accuracy: 1.0000\n",
            "Epoch 5/150\n",
            "4/4 [==============================] - 0s 411us/step - loss: 0.5932 - accuracy: 1.0000\n",
            "Epoch 6/150\n",
            "4/4 [==============================] - 0s 419us/step - loss: 0.5927 - accuracy: 1.0000\n",
            "Epoch 7/150\n",
            "4/4 [==============================] - 0s 514us/step - loss: 0.5922 - accuracy: 1.0000\n",
            "Epoch 8/150\n",
            "4/4 [==============================] - 0s 442us/step - loss: 0.5917 - accuracy: 1.0000\n",
            "Epoch 9/150\n",
            "4/4 [==============================] - 0s 533us/step - loss: 0.5912 - accuracy: 1.0000\n",
            "Epoch 10/150\n",
            "4/4 [==============================] - 0s 441us/step - loss: 0.5907 - accuracy: 1.0000\n",
            "Epoch 11/150\n",
            "4/4 [==============================] - 0s 530us/step - loss: 0.5902 - accuracy: 1.0000\n",
            "Epoch 12/150\n",
            "4/4 [==============================] - 0s 359us/step - loss: 0.5897 - accuracy: 1.0000\n",
            "Epoch 13/150\n",
            "4/4 [==============================] - 0s 2ms/step - loss: 0.5891 - accuracy: 1.0000\n",
            "Epoch 14/150\n",
            "4/4 [==============================] - 0s 351us/step - loss: 0.5886 - accuracy: 1.0000\n",
            "Epoch 15/150\n",
            "4/4 [==============================] - 0s 402us/step - loss: 0.5881 - accuracy: 1.0000\n",
            "Epoch 16/150\n",
            "4/4 [==============================] - 0s 471us/step - loss: 0.5876 - accuracy: 1.0000\n",
            "Epoch 17/150\n",
            "4/4 [==============================] - 0s 571us/step - loss: 0.5871 - accuracy: 1.0000\n",
            "Epoch 18/150\n",
            "4/4 [==============================] - 0s 329us/step - loss: 0.5866 - accuracy: 1.0000\n",
            "Epoch 19/150\n",
            "4/4 [==============================] - 0s 380us/step - loss: 0.5861 - accuracy: 1.0000\n",
            "Epoch 20/150\n",
            "4/4 [==============================] - 0s 525us/step - loss: 0.5856 - accuracy: 1.0000\n",
            "Epoch 21/150\n",
            "4/4 [==============================] - 0s 389us/step - loss: 0.5851 - accuracy: 1.0000\n",
            "Epoch 22/150\n",
            "4/4 [==============================] - 0s 343us/step - loss: 0.5845 - accuracy: 1.0000\n",
            "Epoch 23/150\n",
            "4/4 [==============================] - 0s 333us/step - loss: 0.5840 - accuracy: 1.0000\n",
            "Epoch 24/150\n",
            "4/4 [==============================] - 0s 406us/step - loss: 0.5835 - accuracy: 1.0000\n",
            "Epoch 25/150\n",
            "4/4 [==============================] - 0s 390us/step - loss: 0.5830 - accuracy: 1.0000\n",
            "Epoch 26/150\n",
            "4/4 [==============================] - 0s 322us/step - loss: 0.5825 - accuracy: 1.0000\n",
            "Epoch 27/150\n",
            "4/4 [==============================] - 0s 394us/step - loss: 0.5820 - accuracy: 1.0000\n",
            "Epoch 28/150\n",
            "4/4 [==============================] - 0s 378us/step - loss: 0.5814 - accuracy: 1.0000\n",
            "Epoch 29/150\n",
            "4/4 [==============================] - 0s 316us/step - loss: 0.5809 - accuracy: 1.0000\n",
            "Epoch 30/150\n",
            "4/4 [==============================] - 0s 557us/step - loss: 0.5804 - accuracy: 1.0000\n",
            "Epoch 31/150\n",
            "4/4 [==============================] - 0s 347us/step - loss: 0.5799 - accuracy: 1.0000\n",
            "Epoch 32/150\n",
            "4/4 [==============================] - 0s 375us/step - loss: 0.5794 - accuracy: 1.0000\n",
            "Epoch 33/150\n",
            "4/4 [==============================] - 0s 344us/step - loss: 0.5789 - accuracy: 1.0000\n",
            "Epoch 34/150\n",
            "4/4 [==============================] - 0s 488us/step - loss: 0.5783 - accuracy: 1.0000\n",
            "Epoch 35/150\n",
            "4/4 [==============================] - 0s 303us/step - loss: 0.5778 - accuracy: 1.0000\n",
            "Epoch 36/150\n",
            "4/4 [==============================] - 0s 316us/step - loss: 0.5773 - accuracy: 1.0000\n",
            "Epoch 37/150\n",
            "4/4 [==============================] - 0s 317us/step - loss: 0.5768 - accuracy: 1.0000\n",
            "Epoch 38/150\n",
            "4/4 [==============================] - 0s 397us/step - loss: 0.5763 - accuracy: 1.0000\n",
            "Epoch 39/150\n",
            "4/4 [==============================] - 0s 325us/step - loss: 0.5757 - accuracy: 1.0000\n",
            "Epoch 40/150\n",
            "4/4 [==============================] - 0s 325us/step - loss: 0.5752 - accuracy: 1.0000\n",
            "Epoch 41/150\n",
            "4/4 [==============================] - 0s 376us/step - loss: 0.5747 - accuracy: 1.0000\n",
            "Epoch 42/150\n",
            "4/4 [==============================] - 0s 517us/step - loss: 0.5742 - accuracy: 1.0000\n",
            "Epoch 43/150\n",
            "4/4 [==============================] - 0s 460us/step - loss: 0.5737 - accuracy: 1.0000\n",
            "Epoch 44/150\n",
            "4/4 [==============================] - 0s 375us/step - loss: 0.5731 - accuracy: 1.0000\n",
            "Epoch 45/150\n",
            "4/4 [==============================] - 0s 393us/step - loss: 0.5726 - accuracy: 1.0000\n",
            "Epoch 46/150\n",
            "4/4 [==============================] - 0s 421us/step - loss: 0.5721 - accuracy: 1.0000\n",
            "Epoch 47/150\n",
            "4/4 [==============================] - 0s 434us/step - loss: 0.5716 - accuracy: 1.0000\n",
            "Epoch 48/150\n",
            "4/4 [==============================] - 0s 331us/step - loss: 0.5711 - accuracy: 1.0000\n",
            "Epoch 49/150\n",
            "4/4 [==============================] - 0s 323us/step - loss: 0.5705 - accuracy: 1.0000\n",
            "Epoch 50/150\n",
            "4/4 [==============================] - 0s 499us/step - loss: 0.5700 - accuracy: 1.0000\n",
            "Epoch 51/150\n",
            "4/4 [==============================] - 0s 430us/step - loss: 0.5695 - accuracy: 1.0000\n",
            "Epoch 52/150\n",
            "4/4 [==============================] - 0s 374us/step - loss: 0.5690 - accuracy: 1.0000\n",
            "Epoch 53/150\n",
            "4/4 [==============================] - 0s 339us/step - loss: 0.5685 - accuracy: 1.0000\n",
            "Epoch 54/150\n",
            "4/4 [==============================] - 0s 395us/step - loss: 0.5680 - accuracy: 1.0000\n",
            "Epoch 55/150\n",
            "4/4 [==============================] - 0s 399us/step - loss: 0.5674 - accuracy: 1.0000\n",
            "Epoch 56/150\n",
            "4/4 [==============================] - 0s 351us/step - loss: 0.5669 - accuracy: 1.0000\n",
            "Epoch 57/150\n",
            "4/4 [==============================] - 0s 335us/step - loss: 0.5664 - accuracy: 1.0000\n",
            "Epoch 58/150\n",
            "4/4 [==============================] - 0s 398us/step - loss: 0.5659 - accuracy: 1.0000\n",
            "Epoch 59/150\n",
            "4/4 [==============================] - 0s 434us/step - loss: 0.5653 - accuracy: 1.0000\n",
            "Epoch 60/150\n",
            "4/4 [==============================] - 0s 524us/step - loss: 0.5648 - accuracy: 1.0000\n",
            "Epoch 61/150\n",
            "4/4 [==============================] - 0s 389us/step - loss: 0.5643 - accuracy: 1.0000\n",
            "Epoch 62/150\n",
            "4/4 [==============================] - 0s 503us/step - loss: 0.5638 - accuracy: 1.0000\n",
            "Epoch 63/150\n",
            "4/4 [==============================] - 0s 394us/step - loss: 0.5633 - accuracy: 1.0000\n",
            "Epoch 64/150\n",
            "4/4 [==============================] - 0s 390us/step - loss: 0.5627 - accuracy: 1.0000\n",
            "Epoch 65/150\n",
            "4/4 [==============================] - 0s 384us/step - loss: 0.5622 - accuracy: 1.0000\n",
            "Epoch 66/150\n",
            "4/4 [==============================] - 0s 416us/step - loss: 0.5617 - accuracy: 1.0000\n",
            "Epoch 67/150\n",
            "4/4 [==============================] - 0s 529us/step - loss: 0.5612 - accuracy: 1.0000\n",
            "Epoch 68/150\n",
            "4/4 [==============================] - 0s 866us/step - loss: 0.5606 - accuracy: 1.0000\n",
            "Epoch 69/150\n",
            "4/4 [==============================] - 0s 355us/step - loss: 0.5601 - accuracy: 1.0000\n",
            "Epoch 70/150\n",
            "4/4 [==============================] - 0s 524us/step - loss: 0.5596 - accuracy: 1.0000\n",
            "Epoch 71/150\n",
            "4/4 [==============================] - 0s 513us/step - loss: 0.5590 - accuracy: 1.0000\n",
            "Epoch 72/150\n",
            "4/4 [==============================] - 0s 404us/step - loss: 0.5585 - accuracy: 1.0000\n",
            "Epoch 73/150\n",
            "4/4 [==============================] - 0s 477us/step - loss: 0.5580 - accuracy: 1.0000\n",
            "Epoch 74/150\n",
            "4/4 [==============================] - 0s 469us/step - loss: 0.5575 - accuracy: 1.0000\n",
            "Epoch 75/150\n",
            "4/4 [==============================] - 0s 375us/step - loss: 0.5569 - accuracy: 1.0000\n",
            "Epoch 76/150\n",
            "4/4 [==============================] - 0s 390us/step - loss: 0.5564 - accuracy: 1.0000\n",
            "Epoch 77/150\n",
            "4/4 [==============================] - 0s 503us/step - loss: 0.5559 - accuracy: 1.0000\n",
            "Epoch 78/150\n",
            "4/4 [==============================] - 0s 555us/step - loss: 0.5554 - accuracy: 1.0000\n",
            "Epoch 79/150\n",
            "4/4 [==============================] - 0s 425us/step - loss: 0.5548 - accuracy: 1.0000\n",
            "Epoch 80/150\n",
            "4/4 [==============================] - 0s 407us/step - loss: 0.5543 - accuracy: 1.0000\n",
            "Epoch 81/150\n",
            "4/4 [==============================] - 0s 479us/step - loss: 0.5538 - accuracy: 1.0000\n",
            "Epoch 82/150\n",
            "4/4 [==============================] - 0s 409us/step - loss: 0.5533 - accuracy: 1.0000\n",
            "Epoch 83/150\n",
            "4/4 [==============================] - 0s 431us/step - loss: 0.5527 - accuracy: 1.0000\n",
            "Epoch 84/150\n",
            "4/4 [==============================] - 0s 392us/step - loss: 0.5522 - accuracy: 1.0000\n",
            "Epoch 85/150\n",
            "4/4 [==============================] - 0s 418us/step - loss: 0.5517 - accuracy: 1.0000\n",
            "Epoch 86/150\n",
            "4/4 [==============================] - 0s 403us/step - loss: 0.5511 - accuracy: 1.0000\n",
            "Epoch 87/150\n",
            "4/4 [==============================] - 0s 573us/step - loss: 0.5506 - accuracy: 1.0000\n",
            "Epoch 88/150\n",
            "4/4 [==============================] - 0s 390us/step - loss: 0.5501 - accuracy: 1.0000\n",
            "Epoch 89/150\n",
            "4/4 [==============================] - 0s 455us/step - loss: 0.5495 - accuracy: 1.0000\n",
            "Epoch 90/150\n",
            "4/4 [==============================] - 0s 487us/step - loss: 0.5490 - accuracy: 1.0000\n",
            "Epoch 91/150\n",
            "4/4 [==============================] - 0s 385us/step - loss: 0.5485 - accuracy: 1.0000\n",
            "Epoch 92/150\n",
            "4/4 [==============================] - 0s 417us/step - loss: 0.5479 - accuracy: 1.0000\n",
            "Epoch 93/150\n",
            "4/4 [==============================] - 0s 381us/step - loss: 0.5474 - accuracy: 1.0000\n",
            "Epoch 94/150\n",
            "4/4 [==============================] - 0s 448us/step - loss: 0.5469 - accuracy: 1.0000\n",
            "Epoch 95/150\n",
            "4/4 [==============================] - 0s 367us/step - loss: 0.5463 - accuracy: 1.0000\n",
            "Epoch 96/150\n",
            "4/4 [==============================] - 0s 363us/step - loss: 0.5458 - accuracy: 1.0000\n",
            "Epoch 97/150\n",
            "4/4 [==============================] - 0s 331us/step - loss: 0.5453 - accuracy: 1.0000\n",
            "Epoch 98/150\n",
            "4/4 [==============================] - 0s 469us/step - loss: 0.5447 - accuracy: 1.0000\n",
            "Epoch 99/150\n",
            "4/4 [==============================] - 0s 392us/step - loss: 0.5442 - accuracy: 1.0000\n",
            "Epoch 100/150\n",
            "4/4 [==============================] - 0s 408us/step - loss: 0.5437 - accuracy: 1.0000\n",
            "Epoch 101/150\n",
            "4/4 [==============================] - 0s 519us/step - loss: 0.5431 - accuracy: 1.0000\n",
            "Epoch 102/150\n",
            "4/4 [==============================] - 0s 341us/step - loss: 0.5426 - accuracy: 1.0000\n",
            "Epoch 103/150\n",
            "4/4 [==============================] - 0s 363us/step - loss: 0.5420 - accuracy: 1.0000\n",
            "Epoch 104/150\n",
            "4/4 [==============================] - 0s 429us/step - loss: 0.5415 - accuracy: 1.0000\n",
            "Epoch 105/150\n",
            "4/4 [==============================] - 0s 337us/step - loss: 0.5410 - accuracy: 1.0000\n",
            "Epoch 106/150\n",
            "4/4 [==============================] - 0s 448us/step - loss: 0.5405 - accuracy: 1.0000\n",
            "Epoch 107/150\n",
            "4/4 [==============================] - 0s 521us/step - loss: 0.5399 - accuracy: 1.0000\n",
            "Epoch 108/150\n",
            "4/4 [==============================] - 0s 508us/step - loss: 0.5394 - accuracy: 1.0000\n",
            "Epoch 109/150\n",
            "4/4 [==============================] - 0s 545us/step - loss: 0.5388 - accuracy: 1.0000\n",
            "Epoch 110/150\n",
            "4/4 [==============================] - 0s 392us/step - loss: 0.5383 - accuracy: 1.0000\n",
            "Epoch 111/150\n",
            "4/4 [==============================] - 0s 379us/step - loss: 0.5378 - accuracy: 1.0000\n",
            "Epoch 112/150\n",
            "4/4 [==============================] - 0s 370us/step - loss: 0.5372 - accuracy: 1.0000\n",
            "Epoch 113/150\n",
            "4/4 [==============================] - 0s 544us/step - loss: 0.5367 - accuracy: 1.0000\n",
            "Epoch 114/150\n",
            "4/4 [==============================] - 0s 433us/step - loss: 0.5361 - accuracy: 1.0000\n",
            "Epoch 115/150\n",
            "4/4 [==============================] - 0s 399us/step - loss: 0.5356 - accuracy: 1.0000\n",
            "Epoch 116/150\n",
            "4/4 [==============================] - 0s 513us/step - loss: 0.5351 - accuracy: 1.0000\n",
            "Epoch 117/150\n",
            "4/4 [==============================] - 0s 390us/step - loss: 0.5345 - accuracy: 1.0000\n",
            "Epoch 118/150\n",
            "4/4 [==============================] - 0s 559us/step - loss: 0.5340 - accuracy: 1.0000\n",
            "Epoch 119/150\n",
            "4/4 [==============================] - 0s 548us/step - loss: 0.5334 - accuracy: 1.0000\n",
            "Epoch 120/150\n",
            "4/4 [==============================] - 0s 537us/step - loss: 0.5329 - accuracy: 1.0000\n",
            "Epoch 121/150\n",
            "4/4 [==============================] - 0s 421us/step - loss: 0.5324 - accuracy: 1.0000\n",
            "Epoch 122/150\n",
            "4/4 [==============================] - 0s 572us/step - loss: 0.5318 - accuracy: 1.0000\n",
            "Epoch 123/150\n",
            "4/4 [==============================] - 0s 399us/step - loss: 0.5313 - accuracy: 1.0000\n",
            "Epoch 124/150\n",
            "4/4 [==============================] - 0s 376us/step - loss: 0.5307 - accuracy: 1.0000\n",
            "Epoch 125/150\n",
            "4/4 [==============================] - 0s 483us/step - loss: 0.5302 - accuracy: 1.0000\n",
            "Epoch 126/150\n",
            "4/4 [==============================] - 0s 2ms/step - loss: 0.5296 - accuracy: 1.0000\n",
            "Epoch 127/150\n",
            "4/4 [==============================] - 0s 871us/step - loss: 0.5291 - accuracy: 1.0000\n",
            "Epoch 128/150\n",
            "4/4 [==============================] - 0s 663us/step - loss: 0.5286 - accuracy: 1.0000\n",
            "Epoch 129/150\n",
            "4/4 [==============================] - 0s 651us/step - loss: 0.5280 - accuracy: 1.0000\n",
            "Epoch 130/150\n",
            "4/4 [==============================] - 0s 407us/step - loss: 0.5275 - accuracy: 1.0000\n",
            "Epoch 131/150\n",
            "4/4 [==============================] - 0s 615us/step - loss: 0.5269 - accuracy: 1.0000\n",
            "Epoch 132/150\n",
            "4/4 [==============================] - 0s 637us/step - loss: 0.5264 - accuracy: 1.0000\n",
            "Epoch 133/150\n",
            "4/4 [==============================] - 0s 491us/step - loss: 0.5258 - accuracy: 1.0000\n",
            "Epoch 134/150\n",
            "4/4 [==============================] - 0s 527us/step - loss: 0.5253 - accuracy: 1.0000\n",
            "Epoch 135/150\n",
            "4/4 [==============================] - 0s 652us/step - loss: 0.5247 - accuracy: 1.0000\n",
            "Epoch 136/150\n",
            "4/4 [==============================] - 0s 522us/step - loss: 0.5242 - accuracy: 1.0000\n",
            "Epoch 137/150\n",
            "4/4 [==============================] - 0s 393us/step - loss: 0.5236 - accuracy: 1.0000\n",
            "Epoch 138/150\n",
            "4/4 [==============================] - 0s 424us/step - loss: 0.5231 - accuracy: 1.0000\n",
            "Epoch 139/150\n",
            "4/4 [==============================] - 0s 382us/step - loss: 0.5225 - accuracy: 1.0000\n",
            "Epoch 140/150\n",
            "4/4 [==============================] - 0s 535us/step - loss: 0.5220 - accuracy: 1.0000\n",
            "Epoch 141/150\n",
            "4/4 [==============================] - 0s 531us/step - loss: 0.5215 - accuracy: 1.0000\n",
            "Epoch 142/150\n",
            "4/4 [==============================] - 0s 521us/step - loss: 0.5209 - accuracy: 1.0000\n",
            "Epoch 143/150\n",
            "4/4 [==============================] - 0s 529us/step - loss: 0.5204 - accuracy: 1.0000\n",
            "Epoch 144/150\n",
            "4/4 [==============================] - 0s 418us/step - loss: 0.5198 - accuracy: 1.0000\n",
            "Epoch 145/150\n",
            "4/4 [==============================] - 0s 522us/step - loss: 0.5193 - accuracy: 1.0000\n",
            "Epoch 146/150\n",
            "4/4 [==============================] - 0s 538us/step - loss: 0.5187 - accuracy: 1.0000\n",
            "Epoch 147/150\n",
            "4/4 [==============================] - 0s 545us/step - loss: 0.5182 - accuracy: 1.0000\n",
            "Epoch 148/150\n",
            "4/4 [==============================] - 0s 416us/step - loss: 0.5176 - accuracy: 1.0000\n",
            "Epoch 149/150\n",
            "4/4 [==============================] - 0s 426us/step - loss: 0.5171 - accuracy: 1.0000\n",
            "Epoch 150/150\n",
            "4/4 [==============================] - 0s 357us/step - loss: 0.5165 - accuracy: 1.0000\n",
            "(4, 2)\n",
            "[array([[ 0.7895489 ,  0.93992364, -0.50466585],\n",
            "       [-1.0749245 ,  0.2629014 , -0.23611897]], dtype=float32), array([ 0.28621405, -0.26283193,  0.        ], dtype=float32), array([[-0.6557834],\n",
            "       [ 0.5934994],\n",
            "       [-1.1433073]], dtype=float32), array([-0.2702786], dtype=float32)]\n",
            "4/4 [==============================] - 0s 245us/step\n",
            "Accuracy: 100.00\n",
            "0.3874668\n",
            "0.3603391\n",
            "0.4328488\n",
            "0.5712755\n"
          ],
          "name": "stdout"
        },
        {
          "output_type": "execute_result",
          "data": {
            "text/plain": [
              "[None, None, None, None]"
            ]
          },
          "metadata": {
            "tags": []
          },
          "execution_count": 10
        }
      ]
    },
    {
      "cell_type": "code",
      "metadata": {
        "id": "H_7TLg-c_Kx7",
        "colab_type": "code",
        "colab": {
          "base_uri": "https://localhost:8080/",
          "height": 102
        },
        "outputId": "926faf64-d18a-4718-b14a-00ea55ee21eb"
      },
      "source": [
        "[print(str(round(i[0]))) for i in predict_out]"
      ],
      "execution_count": 11,
      "outputs": [
        {
          "output_type": "stream",
          "text": [
            "0.0\n",
            "0.0\n",
            "0.0\n",
            "1.0\n"
          ],
          "name": "stdout"
        },
        {
          "output_type": "execute_result",
          "data": {
            "text/plain": [
              "[None, None, None, None]"
            ]
          },
          "metadata": {
            "tags": []
          },
          "execution_count": 11
        }
      ]
    },
    {
      "cell_type": "code",
      "metadata": {
        "id": "_TUnVB2m_n6y",
        "colab_type": "code",
        "colab": {
          "base_uri": "https://localhost:8080/",
          "height": 105
        },
        "outputId": "0a0df9fe-6568-4cd8-f0d5-9915c00c46b1"
      },
      "source": [
        "print(model.get_weights())"
      ],
      "execution_count": 12,
      "outputs": [
        {
          "output_type": "stream",
          "text": [
            "[array([[ 0.7895489 ,  0.93992364, -0.50466585],\n",
            "       [-1.0749245 ,  0.2629014 , -0.23611897]], dtype=float32), array([ 0.28621405, -0.26283193,  0.        ], dtype=float32), array([[-0.6557834],\n",
            "       [ 0.5934994],\n",
            "       [-1.1433073]], dtype=float32), array([-0.2702786], dtype=float32)]\n"
          ],
          "name": "stdout"
        }
      ]
    },
    {
      "cell_type": "code",
      "metadata": {
        "id": "9DfTODs5CCPU",
        "colab_type": "code",
        "colab": {}
      },
      "source": [
        "model.save('other_ctry_cnt_model', include_optimizer=True)"
      ],
      "execution_count": 0,
      "outputs": []
    },
    {
      "cell_type": "code",
      "metadata": {
        "id": "fq_utcHRCDnb",
        "colab_type": "code",
        "colab": {}
      },
      "source": [
        ""
      ],
      "execution_count": 0,
      "outputs": []
    }
  ]
}